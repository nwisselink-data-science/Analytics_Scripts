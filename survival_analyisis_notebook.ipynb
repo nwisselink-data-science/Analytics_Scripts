{
 "cells": [
  {
   "cell_type": "markdown",
   "id": "03617cf6",
   "metadata": {},
   "source": [
    "# Customer Churn Analysis\n",
    "## Setting up the study\n",
    "### Import libraries"
   ]
  },
  {
   "cell_type": "code",
   "execution_count": null,
   "id": "ba6c7781",
   "metadata": {},
   "outputs": [],
   "source": [
    "\n",
    "import pandas as pd\n",
    "import numpy as np\n",
    "import matplotlib.pyplot as plt\n",
    "from lifelines import KaplanMeierFitter, CoxPHFitter\n",
    "from lifelines.plotting import plot_lifetimes\n",
    "import seaborn as sns\n",
    "np.random.seed(42)"
   ]
  },
  {
   "cell_type": "markdown",
   "id": "8270a97e",
   "metadata": {},
   "source": [
    "### Generate synthetic data"
   ]
  },
  {
   "cell_type": "code",
   "execution_count": null,
   "id": "8d58932a",
   "metadata": {},
   "outputs": [],
   "source": [
    "\n",
    "\n",
    "n_customers = 20000\n",
    "\n",
    "ages = np.random.randint(18, 70, size=n_customers)\n",
    "monthly_spend = np.random.normal(60, 15, size=n_customers).clip(min=10).round(2)\n",
    "contract_type = np.random.choice(['Month-to-Month', 'One_Year', 'Two_Year'], size=n_customers, p=[0.6, 0.3, 0.1])\n",
    "\n",
    "contract_churn_prob = {\n",
    "    'Month-to-Month': 0.5,\n",
    "    'One_Year': 0.25,\n",
    "    'Two_Year': 0.1\n",
    "}\n",
    "age_scaled = (ages - ages.min()) / (ages.max() - ages.min())\n",
    "\n",
    "spend_scaled = (monthly_spend - monthly_spend.min()) / (monthly_spend.max() - monthly_spend.min())\n",
    "\n",
    "churn_prob = np.array([\n",
    "    contract_churn_prob[c] for c in contract_type\n",
    "]) - 0.2 * age_scaled - 0.3 * spend_scaled\n",
    "\n",
    "churn_prob = np.clip(churn_prob, 0.05, 0.95)\n",
    "\n",
    "churned = np.random.binomial(1, churn_prob)\n",
    "\n",
    "raw_tenure = np.random.exponential(scale=(15 - 10 * churned), size=n_customers)\n",
    "tenure = np.clip(raw_tenure, a_min=1, a_max=36).astype(int)\n",
    "\n",
    "data = pd.DataFrame({\n",
    "    'tenure': tenure,\n",
    "    'churned': churned,\n",
    "    'age': ages,\n",
    "    'monthly_spend': monthly_spend,\n",
    "    'contract_type': contract_type\n",
    "})\n",
    "\n",
    "# Preview\n",
    "data.head()"
   ]
  },
  {
   "cell_type": "markdown",
   "id": "34b146b6",
   "metadata": {},
   "source": [
    "## Fitting and testing the model\n",
    "### Kaplan Meier estimate of customer survival"
   ]
  },
  {
   "cell_type": "code",
   "execution_count": null,
   "id": "6f565677",
   "metadata": {},
   "outputs": [],
   "source": [
    "kmf = KaplanMeierFitter()\n",
    "\n",
    "# Fit the model\n",
    "kmf.fit(durations=data['tenure'], event_observed=data['churned'])\n",
    "\n",
    "# Plot the survival function\n",
    "plt.figure(figsize=(8,5))\n",
    "kmf.plot()\n",
    "plt.title('Kaplan-Meier Estimate of Customer Survival')\n",
    "plt.xlabel('Tenure (Months)')\n",
    "plt.ylabel('Probability of Retention')\n",
    "plt.grid()\n",
    "plt.show()"
   ]
  },
  {
   "cell_type": "markdown",
   "id": "c233bbfa",
   "metadata": {},
   "source": [
    "### Analyzing contract type as a covariate"
   ]
  },
  {
   "cell_type": "code",
   "execution_count": null,
   "id": "191df9ed",
   "metadata": {},
   "outputs": [],
   "source": [
    "\n",
    "plt.figure(figsize=(10, 6))\n",
    "\n",
    "for contract in data['contract_type'].unique():\n",
    "    mask = data['contract_type'] == contract\n",
    "    kmf.fit(durations=data[mask]['tenure'], event_observed=data[mask]['churned'], label=contract)\n",
    "    kmf.plot_survival_function()\n",
    "\n",
    "plt.title(\"Survival Function by Contract Type\")\n",
    "plt.xlabel(\"Tenure (Months)\")\n",
    "plt.ylabel(\"Probability of Retention\")\n",
    "plt.legend()\n",
    "plt.grid()\n",
    "plt.show()"
   ]
  },
  {
   "cell_type": "markdown",
   "id": "0c3b4412",
   "metadata": {},
   "source": [
    "### Summary of model"
   ]
  },
  {
   "cell_type": "code",
   "execution_count": null,
   "id": "667fbe37",
   "metadata": {},
   "outputs": [],
   "source": [
    "data_encoded = pd.get_dummies(data, columns=['contract_type'], drop_first=True)\n",
    "\n",
    "cph = CoxPHFitter()\n",
    "cph.fit(data_encoded, duration_col='tenure', event_col='churned')\n",
    "\n",
    "# Display summary\n",
    "cph.print_summary()"
   ]
  },
  {
   "cell_type": "markdown",
   "id": "db1f252a",
   "metadata": {},
   "source": [
    "### Hazard Ratios"
   ]
  },
  {
   "cell_type": "code",
   "execution_count": null,
   "id": "8ed018ee",
   "metadata": {},
   "outputs": [],
   "source": [
    "plt.figure(figsize=(8, 5))\n",
    "cph.plot()\n",
    "plt.title('Hazard Ratios from Cox Proportional Hazards Model')\n",
    "plt.grid()\n",
    "plt.show()"
   ]
  },
  {
   "cell_type": "markdown",
   "id": "c1586c1d",
   "metadata": {},
   "source": [
    "## Outcomes and business implications of the model\n",
    "### Predicting Future Churn"
   ]
  },
  {
   "cell_type": "code",
   "execution_count": null,
   "id": "ae010fb1",
   "metadata": {},
   "outputs": [],
   "source": [
    "\n",
    "expected_cols = data_encoded.drop(columns=['tenure', 'churned']).columns\n",
    "\n",
    "new_customers = pd.DataFrame([{\n",
    "    'age': 30,\n",
    "    'monthly_spend': 45,\n",
    "    'contract_type_One Year': 0,\n",
    "    'contract_type_Two Year': 0\n",
    "},\n",
    "{\n",
    "    'age': 50,\n",
    "    'monthly_spend': 80,\n",
    "    'contract_type_One Year': 1,\n",
    "    'contract_type_Two Year': 0\n",
    "}])\n",
    "\n",
    "for col in expected_cols:\n",
    "    if col not in new_customers.columns:\n",
    "        new_customers[col] = 0\n",
    "\n",
    "new_customers = new_customers[expected_cols]\n",
    "\n",
    "survival_funcs = cph.predict_survival_function(new_customers)\n",
    "\n",
    "plt.figure(figsize=(8, 5))\n",
    "for i, func in enumerate(survival_funcs.T.values):\n",
    "    plt.step(survival_funcs.index, func, label=f'Customer {i+1}')\n",
    "    \n",
    "plt.title('Predicted Survival Functions for New Customers')\n",
    "plt.xlabel('Time (Months)')\n",
    "plt.ylabel('Probability of Retention')\n",
    "plt.legend()\n",
    "plt.grid()\n",
    "plt.show()\n",
    "\n"
   ]
  },
  {
   "cell_type": "markdown",
   "id": "2ecf87d7",
   "metadata": {},
   "source": [
    "### Predicted Revenue lost due to churn"
   ]
  },
  {
   "cell_type": "code",
   "execution_count": null,
   "id": "e2d3ba5e",
   "metadata": {},
   "outputs": [],
   "source": [
    "\n",
    "avg_monthly_spend = data['monthly_spend'].mean()\n",
    "\n",
    "overall_survival = cph.predict_survival_function(data_encoded.drop(columns=['tenure', 'churned'])).mean(axis=1)\n",
    "\n",
    "expected_loss = (1 - overall_survival) * avg_monthly_spend * len(data)\n",
    "\n",
    "plt.figure(figsize=(9, 5))\n",
    "plt.plot(expected_loss.index, expected_loss.values, color='red')\n",
    "plt.title(\"Expected Cumulative Revenue Lost Over Time Due to Churn\")\n",
    "plt.xlabel(\"Time (Months)\")\n",
    "plt.ylabel(\"Revenue Lost ($)\")\n",
    "plt.grid()\n",
    "plt.show()"
   ]
  },
  {
   "cell_type": "markdown",
   "id": "0149620f",
   "metadata": {},
   "source": [
    "### Predicted revenue gain from improving customer retention"
   ]
  },
  {
   "cell_type": "code",
   "execution_count": null,
   "id": "6849e857",
   "metadata": {},
   "outputs": [],
   "source": [
    "\n",
    "retention_gain = 0.2\n",
    "\n",
    "original_survival = overall_survival\n",
    "\n",
    "improved_survival = original_survival + retention_gain * (1 - original_survival)\n",
    "improved_survival = improved_survival.clip(upper=1.0)  # Cap at 100% survival\n",
    "\n",
    "improved_revenue = improved_survival * avg_monthly_spend * len(data)\n",
    "original_revenue = original_survival * avg_monthly_spend * len(data)\n",
    "\n",
    "revenue_saved = improved_revenue - original_revenue\n",
    "\n",
    "plt.figure(figsize=(9, 5))\n",
    "plt.plot(revenue_saved.index, revenue_saved.values, color='green', label=f'{int(retention_gain * 100)}% Retention Boost')\n",
    "plt.title(\"Projected Revenue Saved Over Time by Improving Retention\")\n",
    "plt.xlabel(\"Time (Months)\")\n",
    "plt.ylabel(\"Revenue Saved ($)\")\n",
    "plt.legend()\n",
    "plt.grid()\n",
    "plt.show()\n"
   ]
  },
  {
   "cell_type": "markdown",
   "id": "9224d4bf",
   "metadata": {},
   "source": [
    "### Simulating customer retention programs"
   ]
  },
  {
   "cell_type": "code",
   "execution_count": null,
   "id": "19ffcdcc",
   "metadata": {},
   "outputs": [],
   "source": [
    "\n",
    "young_threshold = 30\n",
    "is_young = data['age'] <= young_threshold\n",
    "is_monthly = data['contract_type'] == 'Month-to-Month'\n",
    "\n",
    "high_risk = is_young & is_monthly\n",
    "\n",
    "base_churn_rate = data['churned'].mean()\n",
    "\n",
    "program_effectiveness = 0.30  # reduces churn by 30%\n",
    "data_simulated = data.copy()\n",
    "\n",
    "np.random.seed(42)\n",
    "adjusted_churn_prob = np.where(\n",
    "    high_risk,\n",
    "    data_simulated['churned'] * (1 - program_effectiveness),\n",
    "    data_simulated['churned']\n",
    ")\n",
    "\n",
    "data_simulated['churned_simulated'] = np.random.binomial(1, adjusted_churn_prob)\n",
    "\n",
    "churn_before = data['churned'].mean()\n",
    "churn_after = data_simulated['churned_simulated'].mean()\n",
    "churn_reduction = churn_before - churn_after\n",
    "\n",
    "print(f\"Baseline churn rate: {churn_before:.2%}\")\n",
    "print(f\"Post-program churn rate: {churn_after:.2%}\")\n",
    "print(f\"Estimated churn reduction: {churn_reduction:.2%} overall\")\n",
    "\n",
    "import seaborn as sns\n",
    "\n",
    "melted = pd.melt(data_simulated, \n",
    "                 id_vars=['age', 'contract_type'], \n",
    "                 value_vars=['churned', 'churned_simulated'], \n",
    "                 var_name='Churn Type', value_name='Churned')\n",
    "\n",
    "plt.figure(figsize=(8,5))\n",
    "sns.barplot(data=melted, x='Churn Type', y='Churned')\n",
    "plt.title('Churn Rate Before vs After Retention Programs')\n",
    "plt.ylabel('Churn Rate')\n",
    "plt.show()\n"
   ]
  },
  {
   "cell_type": "markdown",
   "id": "fde922b4",
   "metadata": {},
   "source": [
    "### Predicted revenue from customer retention programs"
   ]
  },
  {
   "cell_type": "code",
   "execution_count": null,
   "id": "75f95b5a",
   "metadata": {},
   "outputs": [],
   "source": [
    "\n",
    "def get_revenue_series(churned_flags, tenure_list, spend_list):\n",
    "    revenue = np.zeros((n_customers, 36))  # up to 36 months\n",
    "    for i in range(n_customers):\n",
    "        months_active = tenure_list[i] if churned_flags[i] else 36\n",
    "        months_active = min(months_active, 36)\n",
    "        revenue[i, :months_active] = spend_list[i]\n",
    "    return revenue\n",
    "\n",
    "original_revenue_matrix = get_revenue_series(data['churned'], data['tenure'], data['monthly_spend'])\n",
    "simulated_revenue_matrix = get_revenue_series(data_simulated['churned_simulated'], data['tenure'], data['monthly_spend'])\n",
    "\n",
    "original_revenue_cumulative = original_revenue_matrix.sum(axis=0).cumsum()\n",
    "simulated_revenue_cumulative = simulated_revenue_matrix.sum(axis=0).cumsum()\n",
    "\n",
    "revenue_saved = simulated_revenue_cumulative - original_revenue_cumulative\n",
    "\n",
    "plt.figure(figsize=(10, 6))\n",
    "plt.plot(revenue_saved, color='green', label='Revenue Saved (Program Impact)')\n",
    "plt.title(\"📈 Cumulative Revenue Saved Over Time from Retention Programs\")\n",
    "plt.xlabel(\"Time (Months)\")\n",
    "plt.ylabel(\"Revenue Saved ($)\")\n",
    "plt.grid(True)\n",
    "plt.legend()\n",
    "plt.tight_layout()\n",
    "plt.show()\n"
   ]
  },
  {
   "cell_type": "markdown",
   "id": "d1f5a76a",
   "metadata": {},
   "source": [
    "### Breakeven analysis"
   ]
  },
  {
   "cell_type": "code",
   "execution_count": null,
   "id": "3652fadf",
   "metadata": {},
   "outputs": [],
   "source": [
    "\n",
    "\n",
    "program_cost_per_customer = 20  \n",
    "num_customers_targeted = high_risk.sum()\n",
    "total_program_cost = program_cost_per_customer * num_customers_targeted\n",
    "\n",
    "breakeven_month = np.argmax(revenue_saved >= total_program_cost) if np.any(revenue_saved >= total_program_cost) else None\n",
    "\n",
    "\n",
    "plt.figure(figsize=(10, 6))\n",
    "plt.plot(revenue_saved, color='green', label='Revenue Saved (Program Impact)')\n",
    "plt.axhline(total_program_cost, color='red', linestyle='--', label=f'Program Cost = ${total_program_cost}')\n",
    "if breakeven_month is not None:\n",
    "    plt.axvline(breakeven_month, color='blue', linestyle=':', label=f'Breakeven at Month {breakeven_month}')\n",
    "    plt.text(breakeven_month+1, total_program_cost * 1.05, f'Month {breakeven_month}', color='blue')\n",
    "else:\n",
    "    plt.text(20, total_program_cost * 1.05, \"No breakeven within 36 months\", color='red')\n",
    "\n",
    "plt.title(\"💸 Breakeven Analysis: Retention Program ROI\")\n",
    "plt.xlabel(\"Time (Months)\")\n",
    "plt.ylabel(\"Revenue Saved ($)\")\n",
    "plt.legend()\n",
    "plt.grid(True)\n",
    "plt.tight_layout()\n",
    "plt.show()\n",
    "\n",
    "\n",
    "print(f\"📊 Total Program Cost: ${total_program_cost:,.2f}\")\n",
    "if breakeven_month is not None:\n",
    "    print(f\"✅ Breakeven reached at Month {breakeven_month} — program pays for itself.\")\n",
    "else:\n",
    "    print(\"⚠️ Breakeven not reached within 36 months.\")\n"
   ]
  }
 ],
 "metadata": {
  "kernelspec": {
   "display_name": "Python 3",
   "language": "python",
   "name": "python3"
  },
  "language_info": {
   "codemirror_mode": {
    "name": "ipython",
    "version": 3
   },
   "file_extension": ".py",
   "mimetype": "text/x-python",
   "name": "python",
   "nbconvert_exporter": "python",
   "pygments_lexer": "ipython3",
   "version": "3.12.3"
  }
 },
 "nbformat": 4,
 "nbformat_minor": 5
}
